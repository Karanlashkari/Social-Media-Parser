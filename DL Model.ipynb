{
 "cells": [
  {
   "cell_type": "code",
   "execution_count": null,
   "metadata": {
    "colab": {
     "base_uri": "https://localhost:8080/"
    },
    "id": "Adj37aI3a3nc",
    "outputId": "455669c7-61c8-4ef1-c4b8-f340b75f23ef"
   },
   "outputs": [],
   "source": [
    "from google.colab import drive\n",
    "drive.mount('/content/drive')"
   ]
  },
  {
   "cell_type": "code",
   "execution_count": null,
   "metadata": {
    "colab": {
     "base_uri": "https://localhost:8080/"
    },
    "id": "TP8a7wQlfFoG",
    "outputId": "7c4d1171-6cf3-464c-9823-4ff024383765"
   },
   "outputs": [],
   "source": [
    "!pip install datasets\n"
   ]
  },
  {
   "cell_type": "code",
   "execution_count": null,
   "metadata": {
    "_cell_guid": "b1076dfc-b9ad-4769-8c92-a6c4dae69d19",
    "_uuid": "8f2839f25d086af736a60e9eeb907d3b93b6e0e5",
    "id": "kTyTsI3gasV3"
   },
   "outputs": [],
   "source": [
    "import pandas as pd\n",
    "import numpy as np\n",
    "\n",
    "import matplotlib.pyplot as plt\n",
    "import seaborn as sns\n",
    "\n",
    "from huggingface_hub import HfApi\n",
    "from transformers import AutoTokenizer,AutoModelForSequenceClassification,Trainer,TrainingArguments\n",
    "\n",
    "\n",
    "from sklearn.model_selection import train_test_split\n",
    "from sklearn.metrics import accuracy_score\n",
    "\n",
    "\n",
    "import os\n",
    "import torch\n",
    "os.environ[\"WANDB_DISABLED\"] = \"true\"\n"
   ]
  },
  {
   "cell_type": "code",
   "execution_count": null,
   "metadata": {
    "colab": {
     "base_uri": "https://localhost:8080/"
    },
    "id": "x0donLh9asV4",
    "outputId": "c89607c9-b270-4b4c-c42b-193d30cc405b"
   },
   "outputs": [],
   "source": [
    "device=torch.device(\"cuda\" if torch.cuda.is_available() else \"cpu\")\n",
    "device"
   ]
  },
  {
   "cell_type": "markdown",
   "metadata": {
    "id": "RNBm-pIYasV5"
   },
   "source": [
    "# **Loading & Understanding The Dataset**"
   ]
  },
  {
   "cell_type": "code",
   "execution_count": null,
   "metadata": {
    "id": "6w3ZX2aoasV5"
   },
   "outputs": [],
   "source": [
    "train=pd.read_csv('/content/drive/MyDrive/Sentiment140/train_data.csv')\n",
    "test=pd.read_csv('/content/drive/MyDrive/Sentiment140/test_data.csv')"
   ]
  },
  {
   "cell_type": "code",
   "execution_count": null,
   "metadata": {
    "id": "ch8rObAgasV5"
   },
   "outputs": [],
   "source": [
    "# Get the first 35000 rows\n",
    "first_5000 = train.iloc[:50000]\n",
    "\n",
    "# Get the last 35000 rows\n",
    "last_5000 = train.iloc[-50000:]\n",
    "\n",
    "# Concatenate the first and last 35000 rows\n",
    "train = pd.concat([first_5000, last_5000])\n"
   ]
  },
  {
   "cell_type": "code",
   "execution_count": null,
   "metadata": {
    "colab": {
     "base_uri": "https://localhost:8080/",
     "height": 206
    },
    "id": "EYQylc_LasV5",
    "outputId": "663b7c4e-54c3-42f5-9752-b60bf12dfa70"
   },
   "outputs": [],
   "source": [
    "train.head()"
   ]
  },
  {
   "cell_type": "code",
   "execution_count": null,
   "metadata": {
    "colab": {
     "base_uri": "https://localhost:8080/"
    },
    "id": "IgtTXQf9asV5",
    "outputId": "d1f5f912-930d-4287-a8c2-2e0a1ddf315d"
   },
   "outputs": [],
   "source": [
    "print(f\"shape of training data {train.shape}\")\n",
    "print(f\"shape of testing data {test.shape}\")"
   ]
  },
  {
   "cell_type": "code",
   "execution_count": null,
   "metadata": {
    "colab": {
     "base_uri": "https://localhost:8080/"
    },
    "id": "xyaGjVEHasV6",
    "outputId": "f33881cc-eba1-4f27-d7d2-02fc8d4bb0be"
   },
   "outputs": [],
   "source": [
    "train.info() # no missing values"
   ]
  },
  {
   "cell_type": "code",
   "execution_count": null,
   "metadata": {
    "colab": {
     "base_uri": "https://localhost:8080/"
    },
    "id": "5X-KYIWDasV6",
    "outputId": "2f510e84-2678-41a7-ce1a-87c8a862a0e7"
   },
   "outputs": [],
   "source": [
    "test.info() # no missing values"
   ]
  },
  {
   "cell_type": "code",
   "execution_count": null,
   "metadata": {
    "colab": {
     "base_uri": "https://localhost:8080/",
     "height": 449
    },
    "id": "zJLSxJWzasV6",
    "outputId": "ee5ef2d2-3c69-4dbd-fae7-278b2d170a7a"
   },
   "outputs": [],
   "source": [
    "# sentiment class is balanced\n",
    "sns.countplot(x=\"sentiment\",data=train)\n",
    "plt.show()"
   ]
  },
  {
   "cell_type": "code",
   "execution_count": null,
   "metadata": {
    "id": "nyrnTLO7o7u3"
   },
   "outputs": [],
   "source": [
    "import re\n",
    "\n",
    "def clean_text(text):\n",
    "    # Check if text is a string before applying regex\n",
    "    if isinstance(text, str):\n",
    "        text = re.sub(r'http\\S+', '', text)            # remove URLs\n",
    "        text = re.sub(r'@\\w+', '', text)               # remove mentions\n",
    "        text = re.sub(r'#\\w+', '', text)               # remove hashtags\n",
    "        text = re.sub(r'[^\\w\\s]', '', text)            # remove punctuation\n",
    "        text = re.sub(r'\\s+', ' ', text).strip()       # remove extra spaces\n",
    "        return text.lower()\n",
    "    else:\n",
    "        # Handle non-string inputs (e.g., integers)\n",
    "        return str(text)  # Convert to string or handle as needed\n",
    "\n",
    "train['sentence'] = train['sentence'].apply(clean_text)\n",
    "test['sentence'] = test['sentence'].apply(clean_text)"
   ]
  },
  {
   "cell_type": "code",
   "execution_count": null,
   "metadata": {
    "colab": {
     "base_uri": "https://localhost:8080/"
    },
    "id": "3oOOxk2_asV6",
    "outputId": "8d8255eb-fc71-4b3d-d95b-70997e995b54"
   },
   "outputs": [],
   "source": [
    "# Split the data into train and eval sets (70% train, 30% eval)\n",
    "traindf, evaldf = train_test_split(train, shuffle=True, test_size=0.3, random_state=2001,stratify=train[\"sentiment\"])\n",
    "\n",
    "# Reset index after splitting and drop the old index\n",
    "traindf.reset_index(drop=True, inplace=True)\n",
    "evaldf.reset_index(drop=True, inplace=True)\n",
    "\n",
    "# Check the shapes of the resulting datasets\n",
    "traindf.shape, evaldf.shape\n"
   ]
  },
  {
   "cell_type": "markdown",
   "metadata": {
    "id": "6U-bwVWAasV6"
   },
   "source": [
    "# **Fine Tuning**"
   ]
  },
  {
   "cell_type": "markdown",
   "metadata": {
    "id": "ADpxSEu1asV6"
   },
   "source": [
    "## **Model**"
   ]
  },
  {
   "cell_type": "code",
   "execution_count": null,
   "metadata": {
    "id": "h0-SKLM7asV6"
   },
   "outputs": [],
   "source": [
    "#model_id=\"huawei-noah/TinyBERT_General_4L_312D\"\n",
    "#model_id = \"bert-base-uncased\"\n",
    "model_id = \"vinai/bertweet-base\"\n"
   ]
  },
  {
   "cell_type": "code",
   "execution_count": null,
   "metadata": {
    "colab": {
     "base_uri": "https://localhost:8080/",
     "height": 1000,
     "referenced_widgets": [
      "0a9a0c0a8bf74ae0bcef2de2aec93db6",
      "9625407dcd8f499a956d856b47503107",
      "9f143b1fe894493fb65f543533395eb9",
      "6d9ce3ed64d94425a34adb12dd4c13bf",
      "fb528fa524fb40eb8a79985a24503dc5",
      "c9a6ef3491784c9b8b77c8af04739e31",
      "d1a712312708416d9cf9b012f9c696bf",
      "666deae316f34734ac1e12ffe6575118",
      "328522ffe4d442158e2cf9c27a26c566",
      "4022fae767834828a0058121da843d72",
      "7ea3565838ee4bf8b982372e3b29f28d",
      "7db20e493f7240b3ae9379f47f513e94",
      "bc8039396c6f4b8d9bed94cd5ef70bd6",
      "77eae414ff2c49d4a38c88d978d74cca",
      "b5a364ccf1684901bbb8b5e4cd52fa9a",
      "1a8441eafd274def9af88f23ad47c8bf",
      "11646e1486734944aa241861037faae5",
      "7ce88ee2353045838bc4085204389ba5",
      "acb3f5cf395541c0b88fc4b5f220baa0",
      "2d69dd011d2547dc8daecceedf9687d8",
      "c935746ab7fc4861accfb32809d5b9b5",
      "593aa52eec8543eea0b8ce6f96bf85a9",
      "6c0afeae80024d9d8803f7dbc4c3dba2",
      "6e2cf538c0c74e4c863d3009f454279e",
      "0d82cd0643d64954bdb6829cee9e9817",
      "29f1e413106945a6be16c86dc2ebd094",
      "3e190058efe44f5f9ac3be057f0da472",
      "f2740436eb324bf3805abc2f721ffffa",
      "86d1f22bfb424058844ac14a9b8089e5",
      "97df23d1033c4f7bb9eb4e133d69fa73",
      "d67f5a7e5db54ecdbae64270be912984",
      "de1de4b4644a4c50b58ecbe08fd314a2",
      "5fa61423083641b9953dce642d131e95"
     ]
    },
    "id": "pZ2ugfjYasV7",
    "outputId": "3061567d-c829-4e10-c5c2-f5fab2cb0b3c"
   },
   "outputs": [],
   "source": [
    "model=AutoModelForSequenceClassification.from_pretrained(model_id,num_labels=2)\n",
    "model=model.to(device)\n",
    "model"
   ]
  },
  {
   "cell_type": "markdown",
   "metadata": {
    "id": "n-ov6d21asV7"
   },
   "source": [
    "## **Tokenizer**"
   ]
  },
  {
   "cell_type": "code",
   "execution_count": null,
   "metadata": {
    "colab": {
     "base_uri": "https://localhost:8080/",
     "height": 304,
     "referenced_widgets": [
      "f8f4d3fe8360466a9bac2c187c6d5f2e",
      "c10d3d815d4e4653b72e290ec6eeac22",
      "1076207f17084e7baac331f7f42e71e9",
      "e0435aeef9094b3ca62efcadb4cd976f",
      "48b88ce2b71544b087361e2c76bc9acc",
      "924d6ae18add4a6798d7312e0d16693c",
      "ac6fbb8c49e5408aa0efc7abadc9b96e",
      "17c45eb4e8b44ebc9d515f0d89526692",
      "ef93ce0c847a4454a5071863c06e2fe5",
      "32963fe5c9b54f1799d405c4b2a64397",
      "f5e7ecc3461946828866088807d18699",
      "9b3aa06bbd6943deb9b972c4fda8cd7c",
      "908a1e77158740a3bc66bc4418ae2afb",
      "baec60bbcb774a5e802c3bc80ab05bd6",
      "8e08c2436458420592aea4ec4035ac7c",
      "b10c4fe98bf14a2a8359b4aa7a84eb9a",
      "e05a5fc40921457e8f1244e3181b0eab",
      "19b104b5553d426e8d3d835a32fe1945",
      "bfc6819023a74a7e969387f907ea872b",
      "1aba6071f9d94f69ba36f0f6956d6b8c",
      "e4a865a168814ab4b6c383e1182cc04f",
      "c9dc9d6a3faf4ca7a04f7dcc8e5471e4",
      "fff816108aaa4efcb2def53292edc2f7",
      "da7bedf3d6d245b8816617e08575cdc9",
      "f227e2e26b6248aeaddd23f522b5a208",
      "878ca51e0ab742c18b304136c9fd4af9",
      "29a3a17eddb84498b3cf6fda40350677",
      "8d042efce3884c80bca6fff92296baea",
      "89d430ae88f04eabacbae5db902942da",
      "b258f8fd32e6471baba23298ad2ec3f6",
      "c27bb73eb6cd4bfa96f091b74fb50aa3",
      "3375edd24dc042f383a6a8a907e0981b",
      "7b47002c1e464f519620340a38563395"
     ]
    },
    "id": "MfP6uRdEasV7",
    "outputId": "682ee0a5-a5e1-4bdd-d97b-40c8d0da9628"
   },
   "outputs": [],
   "source": [
    "tokenizer=AutoTokenizer.from_pretrained(model_id)\n",
    "tokenizer"
   ]
  },
  {
   "cell_type": "markdown",
   "metadata": {
    "id": "s3oiWXi5asV7"
   },
   "source": [
    "## **Evaluation**"
   ]
  },
  {
   "cell_type": "code",
   "execution_count": null,
   "metadata": {
    "id": "Pmz1E2pWasV7"
   },
   "outputs": [],
   "source": [
    "# The input is pred, which is a dict containing both predictions and label_ids.\n",
    "\n",
    "# The shape of pred.predictions (logits) is (batch_size, num_labels).\n",
    "# It contains the predicted raw scores (logits) for each class in the classification task.\n",
    "# Example shape: (64, 2) for a batch of 64 samples and 2 possible labels.\n",
    "\n",
    "# The shape of pred.label_ids (true labels) is (batch_size).\n",
    "# It contains the true labels for each sample in the batch.\n",
    "# Example shape: (64,) for a batch of 64 samples.\n",
    "\n",
    "# Using argmax(-1) reduces the logits to predicted class labels by selecting the index of the highest score.\n",
    "# The shape of preds after argmax(-1) is (batch_size), which matches the shape of pred.label_ids.\n",
    "\"\"\"(\n",
    "def compute_metrics(pred):\n",
    "    # Convert logits to predicted class labels using argmax(-1)\n",
    "    predictions = pred.predictions.argmax(-1)\n",
    "\n",
    "    # Extract the true labels\n",
    "    true_labels = pred.label_ids\n",
    "\n",
    "    # Return accuracy score comparing predicted labels and true labels\n",
    "    return {\"accuracy\": accuracy_score(true_labels, predictions)}\n",
    ")\"\"\"\n",
    "from sklearn.metrics import precision_recall_fscore_support, accuracy_score\n",
    "\n",
    "def compute_metrics(eval_pred):\n",
    "    logits, labels = eval_pred\n",
    "    predictions = np.argmax(logits, axis=-1)\n",
    "    precision, recall, f1, _ = precision_recall_fscore_support(labels, predictions, average=\"weighted\")\n",
    "    acc = accuracy_score(labels, predictions)\n",
    "    return {\"accuracy\": acc, \"precision\": precision, \"recall\": recall, \"f1\": f1}\n"
   ]
  },
  {
   "cell_type": "markdown",
   "metadata": {
    "id": "GbOjj8NwasV7"
   },
   "source": [
    "## **Trainer**"
   ]
  },
  {
   "cell_type": "code",
   "execution_count": null,
   "metadata": {
    "colab": {
     "base_uri": "https://localhost:8080/",
     "height": 54
    },
    "id": "9fNbSiafasV7",
    "outputId": "81306c86-5f02-42ed-cb1f-ead73076ccb7"
   },
   "outputs": [],
   "source": [
    "training_args = TrainingArguments(\n",
    "    output_dir=\"./model_results\",\n",
    "    eval_strategy=\"epoch\",\n",
    "    num_train_epochs=15,  # Avoid overfitting beyond this\n",
    "    learning_rate=1e-5,  # Fine-tuned LR\n",
    "    lr_scheduler_type=\"linear\",  # Prevents drastic changes\n",
    "    adam_beta2=0.98,  # Helps stabilize training\n",
    "    logging_steps=50,\n",
    "    weight_decay=0.01,\n",
    "    per_device_train_batch_size=32,\n",
    "    per_device_eval_batch_size=64,\n",
    "    warmup_ratio=0.2,\n",
    "    save_total_limit=2,\n",
    "    save_strategy=\"epoch\",\n",
    "    load_best_model_at_end=True,\n",
    "    gradient_accumulation_steps=2,\n",
    "    fp16=True,\n",
    ")\n"
   ]
  },
  {
   "cell_type": "markdown",
   "metadata": {
    "id": "GYaac09BasV7"
   },
   "source": [
    "# **Train The Model**"
   ]
  },
  {
   "cell_type": "markdown",
   "metadata": {
    "id": "zx2H1ScRasV7"
   },
   "source": [
    "## **Tokenize Dataset**"
   ]
  },
  {
   "cell_type": "code",
   "execution_count": null,
   "metadata": {
    "colab": {
     "base_uri": "https://localhost:8080/",
     "height": 86
    },
    "id": "0WDwW7HmasV7",
    "outputId": "825a3c8e-de9e-466e-aea5-44c3a36ba20c"
   },
   "outputs": [],
   "source": [
    "from datasets import Dataset\n",
    "# Rename the columns first\n",
    "traindf = traindf.rename(columns={\"sentiment\": \"labels\"})\n",
    "evaldf = evaldf.rename(columns={\"sentiment\": \"labels\"})\n",
    "\n",
    "trainds = Dataset.from_pandas(traindf)\n",
    "evalds = Dataset.from_pandas(evaldf)\n",
    "\n",
    "trainds"
   ]
  },
  {
   "cell_type": "code",
   "execution_count": null,
   "metadata": {
    "id": "yGrtPWD_asV8"
   },
   "outputs": [],
   "source": [
    "def tokenization(batch):\n",
    "    return tokenizer(batch[\"sentence\"], padding=\"max_length\", truncation=True, max_length=128)  # Adjust max_length if needed"
   ]
  },
  {
   "cell_type": "code",
   "execution_count": null,
   "metadata": {
    "colab": {
     "base_uri": "https://localhost:8080/",
     "height": 150,
     "referenced_widgets": [
      "241668e7a78741e0adbeda98f0b54067",
      "6e3519384bc6484ab161e7c17c78ab52",
      "648e407eb83247dbb482ec93355115cb",
      "f496247a7b804d81a1cf56921aef4d78",
      "197717752ac74901b236c2f6605a1a1c",
      "a0e4b03d545c4cd6821a250d7dbb6cd5",
      "29f764380ec7407ab43df6ac5051bf3a",
      "f4c2fb7ea2d04672bc6151a4ba9a87eb",
      "ef291e804bc549c1bfb9d7de8081b769",
      "83bc7e8e2c774e74b7b39e5fec37a5dd",
      "02cafd75defe411fbbdef19b3d5ceb8f",
      "e33f71e93beb450893f7be502af049e0",
      "6d82f1249ad34d56b9b97c51c56cbd2d",
      "b2edce352c35478eb003723e19dc4255",
      "6d2949535c234ccba9c3b2d026965eba",
      "1a216cf9eecb4b0e991bfd8f7a1fd508",
      "9b7d80af2c75465fb3caf83e9e3d0082",
      "645704f746644526a331c066ac94546a",
      "90b56012a2ee4041b373c3c63c370f21",
      "eb748d0843a740d9b74b2717f468c7e3",
      "10b0a3ce8a8a4fc9b4f051b7438bb402",
      "de39acdfd7bc49a1aa7186f189be08ed"
     ]
    },
    "id": "2xR8pLu6asV8",
    "outputId": "aadc4b9d-baa6-4bfd-c742-a612738b7a5a"
   },
   "outputs": [],
   "source": [
    "encoded_train = trainds.map(tokenization, batched=True)\n",
    "encoded_eval = evalds.map(tokenization, batched=True)\n",
    "encoded_eval"
   ]
  },
  {
   "cell_type": "markdown",
   "metadata": {
    "id": "1dYa6vqTasV8"
   },
   "source": [
    "## **Train**"
   ]
  },
  {
   "cell_type": "code",
   "execution_count": null,
   "metadata": {
    "id": "XAPolwvSasV8"
   },
   "outputs": [],
   "source": [
    "\"\"\"trainer = Trainer(  # Corrected variable name\n",
    "    model=model,\n",
    "    args=training_args,\n",
    "    train_dataset=encoded_train,\n",
    "    eval_dataset=encoded_eval,\n",
    "    compute_metrics=compute_metrics  # Ensure this is defined properly\n",
    ")\"\"\"\n",
    "# Add this to your imports\n",
    "from transformers import Trainer, TrainingArguments\n",
    "\n",
    "# Re-initialize the Trainer with your model and arguments\n",
    "trainer = Trainer(\n",
    "    model=model,\n",
    "    args=training_args,\n",
    "    train_dataset=encoded_train,\n",
    "    eval_dataset=encoded_eval,\n",
    "    compute_metrics=compute_metrics\n",
    ")"
   ]
  },
  {
   "cell_type": "code",
   "execution_count": null,
   "metadata": {
    "colab": {
     "base_uri": "https://localhost:8080/",
     "height": 580
    },
    "id": "N0cSqEJWasV8",
    "outputId": "6b0a219d-1b69-44ee-fac7-311cbe15415f"
   },
   "outputs": [],
   "source": [
    "trainer.train()"
   ]
  },
  {
   "cell_type": "code",
   "execution_count": null,
   "metadata": {
    "colab": {
     "base_uri": "https://localhost:8080/",
     "height": 74
    },
    "id": "fsY8VbVuJEni",
    "outputId": "99c5dcfd-13ea-409e-8b72-87261c21d0fb"
   },
   "outputs": [],
   "source": [
    "# Evaluate on validation set after training\n",
    "eval_results = trainer.evaluate()\n",
    "print(\"Validation Results:\", eval_results)"
   ]
  },
  {
   "cell_type": "code",
   "execution_count": null,
   "metadata": {
    "id": "mhOPPJwon9hj"
   },
   "outputs": [],
   "source": []
  }
 ],
 "metadata": {
  "accelerator": "GPU",
  "colab": {
   "gpuType": "T4",
   "provenance": []
  },
  "kernelspec": {
   "display_name": "Python 3",
   "name": "python3"
  },
  "language_info": {
   "name": "python"
  }
 },
 "nbformat": 4,
 "nbformat_minor": 0
}
